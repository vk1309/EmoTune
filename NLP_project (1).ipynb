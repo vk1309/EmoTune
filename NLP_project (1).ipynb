{
  "nbformat": 4,
  "nbformat_minor": 0,
  "metadata": {
    "colab": {
      "provenance": []
    },
    "kernelspec": {
      "name": "python3",
      "display_name": "Python 3"
    },
    "language_info": {
      "name": "python"
    },
    "accelerator": "GPU",
    "gpuClass": "standard"
  },
  "cells": [
    {
      "cell_type": "code",
      "source": [
        "!pip install gensim==3.8.3"
      ],
      "metadata": {
        "id": "xwE4odNA4vU3",
        "colab": {
          "base_uri": "https://localhost:8080/"
        },
        "outputId": "bf936807-b84e-4fae-890d-50f6a1210883"
      },
      "execution_count": null,
      "outputs": [
        {
          "output_type": "stream",
          "name": "stdout",
          "text": [
            "Looking in indexes: https://pypi.org/simple, https://us-python.pkg.dev/colab-wheels/public/simple/\n",
            "Collecting gensim==3.8.3\n",
            "  Downloading gensim-3.8.3.tar.gz (23.4 MB)\n",
            "\u001b[2K     \u001b[90m━━━━━━━━━━━━━━━━━━━━━━━━━━━━━━━━━━━━━━━━\u001b[0m \u001b[32m23.4/23.4 MB\u001b[0m \u001b[31m25.5 MB/s\u001b[0m eta \u001b[36m0:00:00\u001b[0m\n",
            "\u001b[?25h  Preparing metadata (setup.py) ... \u001b[?25l\u001b[?25hdone\n",
            "Requirement already satisfied: numpy>=1.11.3 in /usr/local/lib/python3.9/dist-packages (from gensim==3.8.3) (1.22.4)\n",
            "Requirement already satisfied: scipy>=0.18.1 in /usr/local/lib/python3.9/dist-packages (from gensim==3.8.3) (1.10.1)\n",
            "Requirement already satisfied: six>=1.5.0 in /usr/local/lib/python3.9/dist-packages (from gensim==3.8.3) (1.16.0)\n",
            "Requirement already satisfied: smart_open>=1.8.1 in /usr/local/lib/python3.9/dist-packages (from gensim==3.8.3) (6.3.0)\n",
            "Building wheels for collected packages: gensim\n",
            "  Building wheel for gensim (setup.py) ... \u001b[?25l\u001b[?25hdone\n",
            "  Created wheel for gensim: filename=gensim-3.8.3-cp39-cp39-linux_x86_64.whl size=26528075 sha256=606d8ca17ba3a385872eb53594c346aaac0d9e14a1bbd4617dbc8a4a374f1308\n",
            "  Stored in directory: /root/.cache/pip/wheels/ca/5d/af/618594ec2f28608c1d6ee7d2b7e95a3e9b06551e3b80a491d6\n",
            "Successfully built gensim\n",
            "Installing collected packages: gensim\n",
            "  Attempting uninstall: gensim\n",
            "    Found existing installation: gensim 4.3.1\n",
            "    Uninstalling gensim-4.3.1:\n",
            "      Successfully uninstalled gensim-4.3.1\n",
            "Successfully installed gensim-3.8.3\n"
          ]
        }
      ]
    },
    {
      "cell_type": "code",
      "source": [
        "\n",
        "import nltk\n",
        "nltk.download('stopwords')\n",
        "nltk.download('wordnet')"
      ],
      "metadata": {
        "id": "Q8RekmEklARJ",
        "colab": {
          "base_uri": "https://localhost:8080/"
        },
        "outputId": "c0fb486b-0d95-4854-e417-e92d8ea11633"
      },
      "execution_count": null,
      "outputs": [
        {
          "output_type": "stream",
          "name": "stderr",
          "text": [
            "[nltk_data] Downloading package stopwords to /root/nltk_data...\n",
            "[nltk_data]   Unzipping corpora/stopwords.zip.\n",
            "[nltk_data] Downloading package wordnet to /root/nltk_data...\n"
          ]
        },
        {
          "output_type": "execute_result",
          "data": {
            "text/plain": [
              "True"
            ]
          },
          "metadata": {},
          "execution_count": 1
        }
      ]
    },
    {
      "cell_type": "code",
      "execution_count": null,
      "metadata": {
        "id": "WBBGfFJHau7h"
      },
      "outputs": [],
      "source": [
        "import re\n",
        "import string\n",
        "import numpy as np\n",
        "import pandas as pd\n",
        "import matplotlib.pyplot as plt\n",
        "\n",
        "from sklearn.preprocessing import LabelEncoder\n",
        "from sklearn.model_selection import train_test_split\n",
        "\n",
        "from tensorflow.keras.utils import to_categorical\n",
        "from tensorflow.keras.preprocessing.text import Tokenizer\n",
        "from tensorflow.keras.preprocessing.sequence import pad_sequences\n",
        "\n",
        "from tensorflow.keras.optimizers import Adam\n",
        "from tensorflow.keras.models import Sequential\n",
        "from tensorflow.keras.callbacks import EarlyStopping\n",
        "from tensorflow.keras.layers import Dense, LSTM, Embedding, Bidirectional\n",
        "from bs4 import BeautifulSoup\n",
        "\n",
        "import matplotlib\n",
        "import matplotlib.pyplot as plt\n",
        "import matplotlib.patches as mpatches\n",
        "import seaborn as sns\n",
        "\n",
        "from nltk.corpus import stopwords\n",
        "from nltk.util import ngrams\n",
        "\n",
        "from wordcloud import WordCloud\n",
        "\n",
        "from sklearn.feature_extraction.text import CountVectorizer, TfidfVectorizer\n",
        "from sklearn.model_selection import train_test_split\n",
        "from sklearn.decomposition import PCA, TruncatedSVD\n",
        "from sklearn.metrics import classification_report, confusion_matrix, accuracy_score\n",
        "\n",
        "from collections import defaultdict\n",
        "from collections import Counter\n",
        "plt.style.use('ggplot')\n",
        "stop=set(stopwords.words('english'))\n",
        "\n",
        "import re\n",
        "from nltk.tokenize import word_tokenize\n",
        "import gensim\n",
        "import string\n",
        "\n",
        "from tqdm import tqdm\n",
        "from keras.preprocessing.text import Tokenizer\n",
        "from keras.utils import pad_sequences\n",
        "from keras.models import Sequential\n",
        "from keras.layers import Embedding, LSTM,Dense, SpatialDropout1D, Dropout\n",
        "from keras.initializers import Constant\n",
        "from keras.optimizers import Adam\n",
        "\n",
        "import warnings\n",
        "warnings.simplefilter('ignore')\n"
      ]
    },
    {
      "cell_type": "code",
      "source": [
        "import locale\n",
        "def getpreferredencoding(do_setlocale = True):\n",
        "    return \"UTF-8\"\n",
        "locale.getpreferredencoding = getpreferredencoding"
      ],
      "metadata": {
        "id": "oj9Hw_NN5Rud"
      },
      "execution_count": null,
      "outputs": []
    },
    {
      "cell_type": "code",
      "source": [
        "import nltk\n",
        "from nltk.tokenize import RegexpTokenizer\n",
        "from nltk.stem import WordNetLemmatizer,PorterStemmer\n",
        "from nltk.corpus import stopwords\n",
        "import re\n",
        "lemmatizer = WordNetLemmatizer()\n",
        "stemmer = PorterStemmer() \n",
        "\n",
        "def preprocess(sentence):\n",
        "    sentence=str(sentence)\n",
        "    sentence = sentence.lower()\n",
        "    sentence=sentence.replace('{html}',\"\") \n",
        "    cleanr = re.compile('<.*?>')\n",
        "    cleantext = re.sub(cleanr, '', sentence)\n",
        "    rem_url=re.sub(r'http\\S+', '',cleantext)\n",
        "    rem_num = re.sub('[0-9]+', '', rem_url)\n",
        "    tokenizer = RegexpTokenizer(r'\\w+')\n",
        "    tokens = tokenizer.tokenize(rem_num)  \n",
        "    filtered_words = [w for w in tokens if len(w) > 2 if not w in stopwords.words('english')]\n",
        "    stem_words=[stemmer.stem(w) for w in filtered_words]\n",
        "    lemma_words=[lemmatizer.lemmatize(w) for w in stem_words]\n",
        "    return \" \".join(filtered_words)"
      ],
      "metadata": {
        "id": "Ff4Ldzk-x1Va"
      },
      "execution_count": null,
      "outputs": []
    },
    {
      "cell_type": "code",
      "source": [
        "df_train = pd.read_csv('train.txt', header =None, sep =';', names = ['Input','Sentiment'], encoding=\"utf-8\")\n",
        "\n",
        "df_test = pd.read_csv('test.txt', header = None, sep =';', names = ['Input','Sentiment'],encoding=\"utf-8\")\n",
        "\n",
        "df_val = pd.read_csv('val.txt', header=None, sep=';', names=['Input','Sentiment'], encoding=\"utf-8\")"
      ],
      "metadata": {
        "id": "fWGd4jtFpy5B"
      },
      "execution_count": null,
      "outputs": []
    },
    {
      "cell_type": "code",
      "source": [
        "df_val.head()"
      ],
      "metadata": {
        "colab": {
          "base_uri": "https://localhost:8080/",
          "height": 206
        },
        "id": "CQYq7nrktF30",
        "outputId": "c19a4a9c-25b7-4d35-f27f-97d9d44e5691"
      },
      "execution_count": null,
      "outputs": [
        {
          "output_type": "execute_result",
          "data": {
            "text/plain": [
              "                                               Input Sentiment\n",
              "0  im feeling quite sad and sorry for myself but ...   sadness\n",
              "1  i feel like i am still looking at a blank canv...   sadness\n",
              "2                     i feel like a faithful servant      love\n",
              "3                  i am just feeling cranky and blue     anger\n",
              "4  i can have for a treat or if i am feeling festive       joy"
            ],
            "text/html": [
              "\n",
              "  <div id=\"df-889b186e-94ec-418b-aa9c-bde32d9f6bbf\">\n",
              "    <div class=\"colab-df-container\">\n",
              "      <div>\n",
              "<style scoped>\n",
              "    .dataframe tbody tr th:only-of-type {\n",
              "        vertical-align: middle;\n",
              "    }\n",
              "\n",
              "    .dataframe tbody tr th {\n",
              "        vertical-align: top;\n",
              "    }\n",
              "\n",
              "    .dataframe thead th {\n",
              "        text-align: right;\n",
              "    }\n",
              "</style>\n",
              "<table border=\"1\" class=\"dataframe\">\n",
              "  <thead>\n",
              "    <tr style=\"text-align: right;\">\n",
              "      <th></th>\n",
              "      <th>Input</th>\n",
              "      <th>Sentiment</th>\n",
              "    </tr>\n",
              "  </thead>\n",
              "  <tbody>\n",
              "    <tr>\n",
              "      <th>0</th>\n",
              "      <td>im feeling quite sad and sorry for myself but ...</td>\n",
              "      <td>sadness</td>\n",
              "    </tr>\n",
              "    <tr>\n",
              "      <th>1</th>\n",
              "      <td>i feel like i am still looking at a blank canv...</td>\n",
              "      <td>sadness</td>\n",
              "    </tr>\n",
              "    <tr>\n",
              "      <th>2</th>\n",
              "      <td>i feel like a faithful servant</td>\n",
              "      <td>love</td>\n",
              "    </tr>\n",
              "    <tr>\n",
              "      <th>3</th>\n",
              "      <td>i am just feeling cranky and blue</td>\n",
              "      <td>anger</td>\n",
              "    </tr>\n",
              "    <tr>\n",
              "      <th>4</th>\n",
              "      <td>i can have for a treat or if i am feeling festive</td>\n",
              "      <td>joy</td>\n",
              "    </tr>\n",
              "  </tbody>\n",
              "</table>\n",
              "</div>\n",
              "      <button class=\"colab-df-convert\" onclick=\"convertToInteractive('df-889b186e-94ec-418b-aa9c-bde32d9f6bbf')\"\n",
              "              title=\"Convert this dataframe to an interactive table.\"\n",
              "              style=\"display:none;\">\n",
              "        \n",
              "  <svg xmlns=\"http://www.w3.org/2000/svg\" height=\"24px\"viewBox=\"0 0 24 24\"\n",
              "       width=\"24px\">\n",
              "    <path d=\"M0 0h24v24H0V0z\" fill=\"none\"/>\n",
              "    <path d=\"M18.56 5.44l.94 2.06.94-2.06 2.06-.94-2.06-.94-.94-2.06-.94 2.06-2.06.94zm-11 1L8.5 8.5l.94-2.06 2.06-.94-2.06-.94L8.5 2.5l-.94 2.06-2.06.94zm10 10l.94 2.06.94-2.06 2.06-.94-2.06-.94-.94-2.06-.94 2.06-2.06.94z\"/><path d=\"M17.41 7.96l-1.37-1.37c-.4-.4-.92-.59-1.43-.59-.52 0-1.04.2-1.43.59L10.3 9.45l-7.72 7.72c-.78.78-.78 2.05 0 2.83L4 21.41c.39.39.9.59 1.41.59.51 0 1.02-.2 1.41-.59l7.78-7.78 2.81-2.81c.8-.78.8-2.07 0-2.86zM5.41 20L4 18.59l7.72-7.72 1.47 1.35L5.41 20z\"/>\n",
              "  </svg>\n",
              "      </button>\n",
              "      \n",
              "  <style>\n",
              "    .colab-df-container {\n",
              "      display:flex;\n",
              "      flex-wrap:wrap;\n",
              "      gap: 12px;\n",
              "    }\n",
              "\n",
              "    .colab-df-convert {\n",
              "      background-color: #E8F0FE;\n",
              "      border: none;\n",
              "      border-radius: 50%;\n",
              "      cursor: pointer;\n",
              "      display: none;\n",
              "      fill: #1967D2;\n",
              "      height: 32px;\n",
              "      padding: 0 0 0 0;\n",
              "      width: 32px;\n",
              "    }\n",
              "\n",
              "    .colab-df-convert:hover {\n",
              "      background-color: #E2EBFA;\n",
              "      box-shadow: 0px 1px 2px rgba(60, 64, 67, 0.3), 0px 1px 3px 1px rgba(60, 64, 67, 0.15);\n",
              "      fill: #174EA6;\n",
              "    }\n",
              "\n",
              "    [theme=dark] .colab-df-convert {\n",
              "      background-color: #3B4455;\n",
              "      fill: #D2E3FC;\n",
              "    }\n",
              "\n",
              "    [theme=dark] .colab-df-convert:hover {\n",
              "      background-color: #434B5C;\n",
              "      box-shadow: 0px 1px 3px 1px rgba(0, 0, 0, 0.15);\n",
              "      filter: drop-shadow(0px 1px 2px rgba(0, 0, 0, 0.3));\n",
              "      fill: #FFFFFF;\n",
              "    }\n",
              "  </style>\n",
              "\n",
              "      <script>\n",
              "        const buttonEl =\n",
              "          document.querySelector('#df-889b186e-94ec-418b-aa9c-bde32d9f6bbf button.colab-df-convert');\n",
              "        buttonEl.style.display =\n",
              "          google.colab.kernel.accessAllowed ? 'block' : 'none';\n",
              "\n",
              "        async function convertToInteractive(key) {\n",
              "          const element = document.querySelector('#df-889b186e-94ec-418b-aa9c-bde32d9f6bbf');\n",
              "          const dataTable =\n",
              "            await google.colab.kernel.invokeFunction('convertToInteractive',\n",
              "                                                     [key], {});\n",
              "          if (!dataTable) return;\n",
              "\n",
              "          const docLinkHtml = 'Like what you see? Visit the ' +\n",
              "            '<a target=\"_blank\" href=https://colab.research.google.com/notebooks/data_table.ipynb>data table notebook</a>'\n",
              "            + ' to learn more about interactive tables.';\n",
              "          element.innerHTML = '';\n",
              "          dataTable['output_type'] = 'display_data';\n",
              "          await google.colab.output.renderOutput(dataTable, element);\n",
              "          const docLink = document.createElement('div');\n",
              "          docLink.innerHTML = docLinkHtml;\n",
              "          element.appendChild(docLink);\n",
              "        }\n",
              "      </script>\n",
              "    </div>\n",
              "  </div>\n",
              "  "
            ]
          },
          "metadata": {},
          "execution_count": 6
        }
      ]
    },
    {
      "cell_type": "code",
      "source": [
        "df_train.head()"
      ],
      "metadata": {
        "colab": {
          "base_uri": "https://localhost:8080/",
          "height": 206
        },
        "id": "nfSCDOjBtHgw",
        "outputId": "5610d35d-dd07-4193-fdd0-94b779691847"
      },
      "execution_count": null,
      "outputs": [
        {
          "output_type": "execute_result",
          "data": {
            "text/plain": [
              "                                               Input Sentiment\n",
              "0                            i didnt feel humiliated   sadness\n",
              "1  i can go from feeling so hopeless to so damned...   sadness\n",
              "2   im grabbing a minute to post i feel greedy wrong     anger\n",
              "3  i am ever feeling nostalgic about the fireplac...      love\n",
              "4                               i am feeling grouchy     anger"
            ],
            "text/html": [
              "\n",
              "  <div id=\"df-c2f83f9c-01cb-4c9d-ad9a-d77dc662f3b3\">\n",
              "    <div class=\"colab-df-container\">\n",
              "      <div>\n",
              "<style scoped>\n",
              "    .dataframe tbody tr th:only-of-type {\n",
              "        vertical-align: middle;\n",
              "    }\n",
              "\n",
              "    .dataframe tbody tr th {\n",
              "        vertical-align: top;\n",
              "    }\n",
              "\n",
              "    .dataframe thead th {\n",
              "        text-align: right;\n",
              "    }\n",
              "</style>\n",
              "<table border=\"1\" class=\"dataframe\">\n",
              "  <thead>\n",
              "    <tr style=\"text-align: right;\">\n",
              "      <th></th>\n",
              "      <th>Input</th>\n",
              "      <th>Sentiment</th>\n",
              "    </tr>\n",
              "  </thead>\n",
              "  <tbody>\n",
              "    <tr>\n",
              "      <th>0</th>\n",
              "      <td>i didnt feel humiliated</td>\n",
              "      <td>sadness</td>\n",
              "    </tr>\n",
              "    <tr>\n",
              "      <th>1</th>\n",
              "      <td>i can go from feeling so hopeless to so damned...</td>\n",
              "      <td>sadness</td>\n",
              "    </tr>\n",
              "    <tr>\n",
              "      <th>2</th>\n",
              "      <td>im grabbing a minute to post i feel greedy wrong</td>\n",
              "      <td>anger</td>\n",
              "    </tr>\n",
              "    <tr>\n",
              "      <th>3</th>\n",
              "      <td>i am ever feeling nostalgic about the fireplac...</td>\n",
              "      <td>love</td>\n",
              "    </tr>\n",
              "    <tr>\n",
              "      <th>4</th>\n",
              "      <td>i am feeling grouchy</td>\n",
              "      <td>anger</td>\n",
              "    </tr>\n",
              "  </tbody>\n",
              "</table>\n",
              "</div>\n",
              "      <button class=\"colab-df-convert\" onclick=\"convertToInteractive('df-c2f83f9c-01cb-4c9d-ad9a-d77dc662f3b3')\"\n",
              "              title=\"Convert this dataframe to an interactive table.\"\n",
              "              style=\"display:none;\">\n",
              "        \n",
              "  <svg xmlns=\"http://www.w3.org/2000/svg\" height=\"24px\"viewBox=\"0 0 24 24\"\n",
              "       width=\"24px\">\n",
              "    <path d=\"M0 0h24v24H0V0z\" fill=\"none\"/>\n",
              "    <path d=\"M18.56 5.44l.94 2.06.94-2.06 2.06-.94-2.06-.94-.94-2.06-.94 2.06-2.06.94zm-11 1L8.5 8.5l.94-2.06 2.06-.94-2.06-.94L8.5 2.5l-.94 2.06-2.06.94zm10 10l.94 2.06.94-2.06 2.06-.94-2.06-.94-.94-2.06-.94 2.06-2.06.94z\"/><path d=\"M17.41 7.96l-1.37-1.37c-.4-.4-.92-.59-1.43-.59-.52 0-1.04.2-1.43.59L10.3 9.45l-7.72 7.72c-.78.78-.78 2.05 0 2.83L4 21.41c.39.39.9.59 1.41.59.51 0 1.02-.2 1.41-.59l7.78-7.78 2.81-2.81c.8-.78.8-2.07 0-2.86zM5.41 20L4 18.59l7.72-7.72 1.47 1.35L5.41 20z\"/>\n",
              "  </svg>\n",
              "      </button>\n",
              "      \n",
              "  <style>\n",
              "    .colab-df-container {\n",
              "      display:flex;\n",
              "      flex-wrap:wrap;\n",
              "      gap: 12px;\n",
              "    }\n",
              "\n",
              "    .colab-df-convert {\n",
              "      background-color: #E8F0FE;\n",
              "      border: none;\n",
              "      border-radius: 50%;\n",
              "      cursor: pointer;\n",
              "      display: none;\n",
              "      fill: #1967D2;\n",
              "      height: 32px;\n",
              "      padding: 0 0 0 0;\n",
              "      width: 32px;\n",
              "    }\n",
              "\n",
              "    .colab-df-convert:hover {\n",
              "      background-color: #E2EBFA;\n",
              "      box-shadow: 0px 1px 2px rgba(60, 64, 67, 0.3), 0px 1px 3px 1px rgba(60, 64, 67, 0.15);\n",
              "      fill: #174EA6;\n",
              "    }\n",
              "\n",
              "    [theme=dark] .colab-df-convert {\n",
              "      background-color: #3B4455;\n",
              "      fill: #D2E3FC;\n",
              "    }\n",
              "\n",
              "    [theme=dark] .colab-df-convert:hover {\n",
              "      background-color: #434B5C;\n",
              "      box-shadow: 0px 1px 3px 1px rgba(0, 0, 0, 0.15);\n",
              "      filter: drop-shadow(0px 1px 2px rgba(0, 0, 0, 0.3));\n",
              "      fill: #FFFFFF;\n",
              "    }\n",
              "  </style>\n",
              "\n",
              "      <script>\n",
              "        const buttonEl =\n",
              "          document.querySelector('#df-c2f83f9c-01cb-4c9d-ad9a-d77dc662f3b3 button.colab-df-convert');\n",
              "        buttonEl.style.display =\n",
              "          google.colab.kernel.accessAllowed ? 'block' : 'none';\n",
              "\n",
              "        async function convertToInteractive(key) {\n",
              "          const element = document.querySelector('#df-c2f83f9c-01cb-4c9d-ad9a-d77dc662f3b3');\n",
              "          const dataTable =\n",
              "            await google.colab.kernel.invokeFunction('convertToInteractive',\n",
              "                                                     [key], {});\n",
              "          if (!dataTable) return;\n",
              "\n",
              "          const docLinkHtml = 'Like what you see? Visit the ' +\n",
              "            '<a target=\"_blank\" href=https://colab.research.google.com/notebooks/data_table.ipynb>data table notebook</a>'\n",
              "            + ' to learn more about interactive tables.';\n",
              "          element.innerHTML = '';\n",
              "          dataTable['output_type'] = 'display_data';\n",
              "          await google.colab.output.renderOutput(dataTable, element);\n",
              "          const docLink = document.createElement('div');\n",
              "          docLink.innerHTML = docLinkHtml;\n",
              "          element.appendChild(docLink);\n",
              "        }\n",
              "      </script>\n",
              "    </div>\n",
              "  </div>\n",
              "  "
            ]
          },
          "metadata": {},
          "execution_count": 7
        }
      ]
    },
    {
      "cell_type": "code",
      "source": [
        "df_test.head()"
      ],
      "metadata": {
        "colab": {
          "base_uri": "https://localhost:8080/",
          "height": 206
        },
        "id": "EcUrtK8StI9a",
        "outputId": "026d9af2-6a5a-4455-f3f9-0daa18bf6b89"
      },
      "execution_count": null,
      "outputs": [
        {
          "output_type": "execute_result",
          "data": {
            "text/plain": [
              "                                               Input Sentiment\n",
              "0  im feeling rather rotten so im not very ambiti...   sadness\n",
              "1          im updating my blog because i feel shitty   sadness\n",
              "2  i never make her separate from me because i do...   sadness\n",
              "3  i left with my bouquet of red and yellow tulip...       joy\n",
              "4    i was feeling a little vain when i did this one   sadness"
            ],
            "text/html": [
              "\n",
              "  <div id=\"df-ca55ecd1-18f8-430a-ae25-1152547e4d98\">\n",
              "    <div class=\"colab-df-container\">\n",
              "      <div>\n",
              "<style scoped>\n",
              "    .dataframe tbody tr th:only-of-type {\n",
              "        vertical-align: middle;\n",
              "    }\n",
              "\n",
              "    .dataframe tbody tr th {\n",
              "        vertical-align: top;\n",
              "    }\n",
              "\n",
              "    .dataframe thead th {\n",
              "        text-align: right;\n",
              "    }\n",
              "</style>\n",
              "<table border=\"1\" class=\"dataframe\">\n",
              "  <thead>\n",
              "    <tr style=\"text-align: right;\">\n",
              "      <th></th>\n",
              "      <th>Input</th>\n",
              "      <th>Sentiment</th>\n",
              "    </tr>\n",
              "  </thead>\n",
              "  <tbody>\n",
              "    <tr>\n",
              "      <th>0</th>\n",
              "      <td>im feeling rather rotten so im not very ambiti...</td>\n",
              "      <td>sadness</td>\n",
              "    </tr>\n",
              "    <tr>\n",
              "      <th>1</th>\n",
              "      <td>im updating my blog because i feel shitty</td>\n",
              "      <td>sadness</td>\n",
              "    </tr>\n",
              "    <tr>\n",
              "      <th>2</th>\n",
              "      <td>i never make her separate from me because i do...</td>\n",
              "      <td>sadness</td>\n",
              "    </tr>\n",
              "    <tr>\n",
              "      <th>3</th>\n",
              "      <td>i left with my bouquet of red and yellow tulip...</td>\n",
              "      <td>joy</td>\n",
              "    </tr>\n",
              "    <tr>\n",
              "      <th>4</th>\n",
              "      <td>i was feeling a little vain when i did this one</td>\n",
              "      <td>sadness</td>\n",
              "    </tr>\n",
              "  </tbody>\n",
              "</table>\n",
              "</div>\n",
              "      <button class=\"colab-df-convert\" onclick=\"convertToInteractive('df-ca55ecd1-18f8-430a-ae25-1152547e4d98')\"\n",
              "              title=\"Convert this dataframe to an interactive table.\"\n",
              "              style=\"display:none;\">\n",
              "        \n",
              "  <svg xmlns=\"http://www.w3.org/2000/svg\" height=\"24px\"viewBox=\"0 0 24 24\"\n",
              "       width=\"24px\">\n",
              "    <path d=\"M0 0h24v24H0V0z\" fill=\"none\"/>\n",
              "    <path d=\"M18.56 5.44l.94 2.06.94-2.06 2.06-.94-2.06-.94-.94-2.06-.94 2.06-2.06.94zm-11 1L8.5 8.5l.94-2.06 2.06-.94-2.06-.94L8.5 2.5l-.94 2.06-2.06.94zm10 10l.94 2.06.94-2.06 2.06-.94-2.06-.94-.94-2.06-.94 2.06-2.06.94z\"/><path d=\"M17.41 7.96l-1.37-1.37c-.4-.4-.92-.59-1.43-.59-.52 0-1.04.2-1.43.59L10.3 9.45l-7.72 7.72c-.78.78-.78 2.05 0 2.83L4 21.41c.39.39.9.59 1.41.59.51 0 1.02-.2 1.41-.59l7.78-7.78 2.81-2.81c.8-.78.8-2.07 0-2.86zM5.41 20L4 18.59l7.72-7.72 1.47 1.35L5.41 20z\"/>\n",
              "  </svg>\n",
              "      </button>\n",
              "      \n",
              "  <style>\n",
              "    .colab-df-container {\n",
              "      display:flex;\n",
              "      flex-wrap:wrap;\n",
              "      gap: 12px;\n",
              "    }\n",
              "\n",
              "    .colab-df-convert {\n",
              "      background-color: #E8F0FE;\n",
              "      border: none;\n",
              "      border-radius: 50%;\n",
              "      cursor: pointer;\n",
              "      display: none;\n",
              "      fill: #1967D2;\n",
              "      height: 32px;\n",
              "      padding: 0 0 0 0;\n",
              "      width: 32px;\n",
              "    }\n",
              "\n",
              "    .colab-df-convert:hover {\n",
              "      background-color: #E2EBFA;\n",
              "      box-shadow: 0px 1px 2px rgba(60, 64, 67, 0.3), 0px 1px 3px 1px rgba(60, 64, 67, 0.15);\n",
              "      fill: #174EA6;\n",
              "    }\n",
              "\n",
              "    [theme=dark] .colab-df-convert {\n",
              "      background-color: #3B4455;\n",
              "      fill: #D2E3FC;\n",
              "    }\n",
              "\n",
              "    [theme=dark] .colab-df-convert:hover {\n",
              "      background-color: #434B5C;\n",
              "      box-shadow: 0px 1px 3px 1px rgba(0, 0, 0, 0.15);\n",
              "      filter: drop-shadow(0px 1px 2px rgba(0, 0, 0, 0.3));\n",
              "      fill: #FFFFFF;\n",
              "    }\n",
              "  </style>\n",
              "\n",
              "      <script>\n",
              "        const buttonEl =\n",
              "          document.querySelector('#df-ca55ecd1-18f8-430a-ae25-1152547e4d98 button.colab-df-convert');\n",
              "        buttonEl.style.display =\n",
              "          google.colab.kernel.accessAllowed ? 'block' : 'none';\n",
              "\n",
              "        async function convertToInteractive(key) {\n",
              "          const element = document.querySelector('#df-ca55ecd1-18f8-430a-ae25-1152547e4d98');\n",
              "          const dataTable =\n",
              "            await google.colab.kernel.invokeFunction('convertToInteractive',\n",
              "                                                     [key], {});\n",
              "          if (!dataTable) return;\n",
              "\n",
              "          const docLinkHtml = 'Like what you see? Visit the ' +\n",
              "            '<a target=\"_blank\" href=https://colab.research.google.com/notebooks/data_table.ipynb>data table notebook</a>'\n",
              "            + ' to learn more about interactive tables.';\n",
              "          element.innerHTML = '';\n",
              "          dataTable['output_type'] = 'display_data';\n",
              "          await google.colab.output.renderOutput(dataTable, element);\n",
              "          const docLink = document.createElement('div');\n",
              "          docLink.innerHTML = docLinkHtml;\n",
              "          element.appendChild(docLink);\n",
              "        }\n",
              "      </script>\n",
              "    </div>\n",
              "  </div>\n",
              "  "
            ]
          },
          "metadata": {},
          "execution_count": 8
        }
      ]
    },
    {
      "cell_type": "code",
      "source": [
        "df_train['Sentiment'].unique()"
      ],
      "metadata": {
        "colab": {
          "base_uri": "https://localhost:8080/"
        },
        "id": "B9PzCgpjtK9e",
        "outputId": "8065aba2-ddbf-4613-dbaa-2633c8d5b9db"
      },
      "execution_count": null,
      "outputs": [
        {
          "output_type": "execute_result",
          "data": {
            "text/plain": [
              "array(['sadness', 'anger', 'love', 'surprise', 'fear', 'joy'],\n",
              "      dtype=object)"
            ]
          },
          "metadata": {},
          "execution_count": 9
        }
      ]
    },
    {
      "cell_type": "code",
      "source": [
        "df_train.size"
      ],
      "metadata": {
        "colab": {
          "base_uri": "https://localhost:8080/"
        },
        "id": "LE2DLGZ_veaY",
        "outputId": "6298f2de-328a-49b7-ddb6-5d73131f7439"
      },
      "execution_count": null,
      "outputs": [
        {
          "output_type": "execute_result",
          "data": {
            "text/plain": [
              "32000"
            ]
          },
          "metadata": {},
          "execution_count": 10
        }
      ]
    },
    {
      "cell_type": "code",
      "source": [
        "df_train[df_train['Sentiment']=='surprise']"
      ],
      "metadata": {
        "colab": {
          "base_uri": "https://localhost:8080/",
          "height": 424
        },
        "id": "A3_EdlgDvNWB",
        "outputId": "84104cca-1671-4988-8f7d-068f62a5d977"
      },
      "execution_count": null,
      "outputs": [
        {
          "output_type": "execute_result",
          "data": {
            "text/plain": [
              "                                                   Input Sentiment\n",
              "6      ive been taking or milligrams or times recomme...  surprise\n",
              "32     i have seen heard and read over the past coupl...  surprise\n",
              "57     i keep feeling pleasantly surprised at his sup...  surprise\n",
              "64     i am now nearly finished the week detox and i ...  surprise\n",
              "129    i too feel as if i am a stranger in a strange ...  surprise\n",
              "...                                                  ...       ...\n",
              "15871  i spent a lot of time feeling a bit stunned th...  surprise\n",
              "15943  i believe the most readers feel impressed by t...  surprise\n",
              "15970      i have to admit im feeling pretty overwhelmed  surprise\n",
              "15974  i am feeling much like the guy in the pic abov...  surprise\n",
              "15989  i need to do this that and the other for colle...  surprise\n",
              "\n",
              "[572 rows x 2 columns]"
            ],
            "text/html": [
              "\n",
              "  <div id=\"df-7610c122-24cd-44cd-9fc7-9b41f7e22e8c\">\n",
              "    <div class=\"colab-df-container\">\n",
              "      <div>\n",
              "<style scoped>\n",
              "    .dataframe tbody tr th:only-of-type {\n",
              "        vertical-align: middle;\n",
              "    }\n",
              "\n",
              "    .dataframe tbody tr th {\n",
              "        vertical-align: top;\n",
              "    }\n",
              "\n",
              "    .dataframe thead th {\n",
              "        text-align: right;\n",
              "    }\n",
              "</style>\n",
              "<table border=\"1\" class=\"dataframe\">\n",
              "  <thead>\n",
              "    <tr style=\"text-align: right;\">\n",
              "      <th></th>\n",
              "      <th>Input</th>\n",
              "      <th>Sentiment</th>\n",
              "    </tr>\n",
              "  </thead>\n",
              "  <tbody>\n",
              "    <tr>\n",
              "      <th>6</th>\n",
              "      <td>ive been taking or milligrams or times recomme...</td>\n",
              "      <td>surprise</td>\n",
              "    </tr>\n",
              "    <tr>\n",
              "      <th>32</th>\n",
              "      <td>i have seen heard and read over the past coupl...</td>\n",
              "      <td>surprise</td>\n",
              "    </tr>\n",
              "    <tr>\n",
              "      <th>57</th>\n",
              "      <td>i keep feeling pleasantly surprised at his sup...</td>\n",
              "      <td>surprise</td>\n",
              "    </tr>\n",
              "    <tr>\n",
              "      <th>64</th>\n",
              "      <td>i am now nearly finished the week detox and i ...</td>\n",
              "      <td>surprise</td>\n",
              "    </tr>\n",
              "    <tr>\n",
              "      <th>129</th>\n",
              "      <td>i too feel as if i am a stranger in a strange ...</td>\n",
              "      <td>surprise</td>\n",
              "    </tr>\n",
              "    <tr>\n",
              "      <th>...</th>\n",
              "      <td>...</td>\n",
              "      <td>...</td>\n",
              "    </tr>\n",
              "    <tr>\n",
              "      <th>15871</th>\n",
              "      <td>i spent a lot of time feeling a bit stunned th...</td>\n",
              "      <td>surprise</td>\n",
              "    </tr>\n",
              "    <tr>\n",
              "      <th>15943</th>\n",
              "      <td>i believe the most readers feel impressed by t...</td>\n",
              "      <td>surprise</td>\n",
              "    </tr>\n",
              "    <tr>\n",
              "      <th>15970</th>\n",
              "      <td>i have to admit im feeling pretty overwhelmed</td>\n",
              "      <td>surprise</td>\n",
              "    </tr>\n",
              "    <tr>\n",
              "      <th>15974</th>\n",
              "      <td>i am feeling much like the guy in the pic abov...</td>\n",
              "      <td>surprise</td>\n",
              "    </tr>\n",
              "    <tr>\n",
              "      <th>15989</th>\n",
              "      <td>i need to do this that and the other for colle...</td>\n",
              "      <td>surprise</td>\n",
              "    </tr>\n",
              "  </tbody>\n",
              "</table>\n",
              "<p>572 rows × 2 columns</p>\n",
              "</div>\n",
              "      <button class=\"colab-df-convert\" onclick=\"convertToInteractive('df-7610c122-24cd-44cd-9fc7-9b41f7e22e8c')\"\n",
              "              title=\"Convert this dataframe to an interactive table.\"\n",
              "              style=\"display:none;\">\n",
              "        \n",
              "  <svg xmlns=\"http://www.w3.org/2000/svg\" height=\"24px\"viewBox=\"0 0 24 24\"\n",
              "       width=\"24px\">\n",
              "    <path d=\"M0 0h24v24H0V0z\" fill=\"none\"/>\n",
              "    <path d=\"M18.56 5.44l.94 2.06.94-2.06 2.06-.94-2.06-.94-.94-2.06-.94 2.06-2.06.94zm-11 1L8.5 8.5l.94-2.06 2.06-.94-2.06-.94L8.5 2.5l-.94 2.06-2.06.94zm10 10l.94 2.06.94-2.06 2.06-.94-2.06-.94-.94-2.06-.94 2.06-2.06.94z\"/><path d=\"M17.41 7.96l-1.37-1.37c-.4-.4-.92-.59-1.43-.59-.52 0-1.04.2-1.43.59L10.3 9.45l-7.72 7.72c-.78.78-.78 2.05 0 2.83L4 21.41c.39.39.9.59 1.41.59.51 0 1.02-.2 1.41-.59l7.78-7.78 2.81-2.81c.8-.78.8-2.07 0-2.86zM5.41 20L4 18.59l7.72-7.72 1.47 1.35L5.41 20z\"/>\n",
              "  </svg>\n",
              "      </button>\n",
              "      \n",
              "  <style>\n",
              "    .colab-df-container {\n",
              "      display:flex;\n",
              "      flex-wrap:wrap;\n",
              "      gap: 12px;\n",
              "    }\n",
              "\n",
              "    .colab-df-convert {\n",
              "      background-color: #E8F0FE;\n",
              "      border: none;\n",
              "      border-radius: 50%;\n",
              "      cursor: pointer;\n",
              "      display: none;\n",
              "      fill: #1967D2;\n",
              "      height: 32px;\n",
              "      padding: 0 0 0 0;\n",
              "      width: 32px;\n",
              "    }\n",
              "\n",
              "    .colab-df-convert:hover {\n",
              "      background-color: #E2EBFA;\n",
              "      box-shadow: 0px 1px 2px rgba(60, 64, 67, 0.3), 0px 1px 3px 1px rgba(60, 64, 67, 0.15);\n",
              "      fill: #174EA6;\n",
              "    }\n",
              "\n",
              "    [theme=dark] .colab-df-convert {\n",
              "      background-color: #3B4455;\n",
              "      fill: #D2E3FC;\n",
              "    }\n",
              "\n",
              "    [theme=dark] .colab-df-convert:hover {\n",
              "      background-color: #434B5C;\n",
              "      box-shadow: 0px 1px 3px 1px rgba(0, 0, 0, 0.15);\n",
              "      filter: drop-shadow(0px 1px 2px rgba(0, 0, 0, 0.3));\n",
              "      fill: #FFFFFF;\n",
              "    }\n",
              "  </style>\n",
              "\n",
              "      <script>\n",
              "        const buttonEl =\n",
              "          document.querySelector('#df-7610c122-24cd-44cd-9fc7-9b41f7e22e8c button.colab-df-convert');\n",
              "        buttonEl.style.display =\n",
              "          google.colab.kernel.accessAllowed ? 'block' : 'none';\n",
              "\n",
              "        async function convertToInteractive(key) {\n",
              "          const element = document.querySelector('#df-7610c122-24cd-44cd-9fc7-9b41f7e22e8c');\n",
              "          const dataTable =\n",
              "            await google.colab.kernel.invokeFunction('convertToInteractive',\n",
              "                                                     [key], {});\n",
              "          if (!dataTable) return;\n",
              "\n",
              "          const docLinkHtml = 'Like what you see? Visit the ' +\n",
              "            '<a target=\"_blank\" href=https://colab.research.google.com/notebooks/data_table.ipynb>data table notebook</a>'\n",
              "            + ' to learn more about interactive tables.';\n",
              "          element.innerHTML = '';\n",
              "          dataTable['output_type'] = 'display_data';\n",
              "          await google.colab.output.renderOutput(dataTable, element);\n",
              "          const docLink = document.createElement('div');\n",
              "          docLink.innerHTML = docLinkHtml;\n",
              "          element.appendChild(docLink);\n",
              "        }\n",
              "      </script>\n",
              "    </div>\n",
              "  </div>\n",
              "  "
            ]
          },
          "metadata": {},
          "execution_count": 11
        }
      ]
    },
    {
      "cell_type": "code",
      "source": [
        "df_train = df_train.drop(df_train[df_train['Sentiment']=='surprise'].index)"
      ],
      "metadata": {
        "id": "93qDVezZvyAT"
      },
      "execution_count": null,
      "outputs": []
    },
    {
      "cell_type": "code",
      "source": [
        "df_train['Sentiment'].unique()"
      ],
      "metadata": {
        "colab": {
          "base_uri": "https://localhost:8080/"
        },
        "id": "QoROA_UXvV4r",
        "outputId": "c104f1a7-b74d-4cef-b2a5-c56e7a99eb77"
      },
      "execution_count": null,
      "outputs": [
        {
          "output_type": "execute_result",
          "data": {
            "text/plain": [
              "array(['sadness', 'anger', 'love', 'fear', 'joy'], dtype=object)"
            ]
          },
          "metadata": {},
          "execution_count": 13
        }
      ]
    },
    {
      "cell_type": "code",
      "source": [
        "df_test = df_test.drop(df_test[df_test['Sentiment']=='surprise'].index)"
      ],
      "metadata": {
        "id": "p-l2QvD3v0pu"
      },
      "execution_count": null,
      "outputs": []
    },
    {
      "cell_type": "code",
      "source": [
        "df_test['Sentiment'].unique()"
      ],
      "metadata": {
        "colab": {
          "base_uri": "https://localhost:8080/"
        },
        "id": "ILPicDxHv_3n",
        "outputId": "78bff69c-f401-45d2-e57c-00c0ce96849e"
      },
      "execution_count": null,
      "outputs": [
        {
          "output_type": "execute_result",
          "data": {
            "text/plain": [
              "array(['sadness', 'joy', 'fear', 'anger', 'love'], dtype=object)"
            ]
          },
          "metadata": {},
          "execution_count": 15
        }
      ]
    },
    {
      "cell_type": "code",
      "source": [
        "df_val = df_val.drop(df_val[df_val['Sentiment']=='surprise'].index)"
      ],
      "metadata": {
        "id": "p_Nhg8K2wFLz"
      },
      "execution_count": null,
      "outputs": []
    },
    {
      "cell_type": "code",
      "source": [
        "df_val['Sentiment'].unique()"
      ],
      "metadata": {
        "colab": {
          "base_uri": "https://localhost:8080/"
        },
        "id": "BcGlCXbuwIxh",
        "outputId": "146c939c-4526-40f7-ffba-606e684e4262"
      },
      "execution_count": null,
      "outputs": [
        {
          "output_type": "execute_result",
          "data": {
            "text/plain": [
              "array(['sadness', 'love', 'anger', 'joy', 'fear'], dtype=object)"
            ]
          },
          "metadata": {},
          "execution_count": 17
        }
      ]
    },
    {
      "cell_type": "code",
      "source": [
        "df_train_pre = pd.DataFrame(columns=['Input', 'Sentiment'])\n",
        "df_test_pre = pd.DataFrame(columns=['Input', 'Sentiment'])\n"
      ],
      "metadata": {
        "id": "qqvc_bY23J_K"
      },
      "execution_count": null,
      "outputs": []
    },
    {
      "cell_type": "code",
      "source": [
        "df_train_pre['Input']=df_train['Input'].map(lambda s:preprocess(s)) \n",
        "df_test_pre['Input']=df_test['Input'].map(lambda s:preprocess(s)) \n"
      ],
      "metadata": {
        "id": "twyyYf4o0E0z"
      },
      "execution_count": null,
      "outputs": []
    },
    {
      "cell_type": "code",
      "source": [
        "df_train_pre['Sentiment'] = df_train['Sentiment']\n",
        "df_test_pre['Sentiment'] = df_test['Sentiment']\n"
      ],
      "metadata": {
        "id": "4GD-4ZLv0E5_"
      },
      "execution_count": null,
      "outputs": []
    },
    {
      "cell_type": "code",
      "source": [
        "colors = np.array([\"gray\", 'orangered', 'hotpink', 'gold', 'cornflowerblue'])\n",
        "\n",
        "plt.bar(y_train.unique(),height=y_train.value_counts(), color=colors)\n",
        "plt.title(\"Training data - classes counts\")\n",
        "plt.show()"
      ],
      "metadata": {
        "id": "gAnMowiU6Y5e"
      },
      "execution_count": null,
      "outputs": []
    },
    {
      "cell_type": "code",
      "source": [
        "df_train_pre['Sentiment'] = df_train_pre.Sentiment.replace({'joy':0,'anger':1,'love':2,'sadness':3,'fear':4,'surprise':5})\n",
        "df_test_pre['Sentiment'] = df_test_pre.Sentiment.replace({'joy':0,'anger':1,'love':2,'sadness':3,'fear':4,'surprise':5})\n",
        "df_val['Sentiment'] = df_val.Sentiment.replace({'joy':0,'anger':1,'love':2,'sadness':3,'fear':4,'surprise':5})"
      ],
      "metadata": {
        "id": "PQfgtLcR0RbB"
      },
      "execution_count": null,
      "outputs": []
    },
    {
      "cell_type": "code",
      "source": [
        "from keras.utils import to_categorical\n",
        "y_train = to_categorical(df_train_pre.Sentiment.values)\n",
        "y_test = to_categorical(df_test_pre.Sentiment.values)\n",
        "y_val = to_categorical(df_val.Sentiment.values)"
      ],
      "metadata": {
        "id": "q4xGCRXe1bSm"
      },
      "execution_count": null,
      "outputs": []
    },
    {
      "cell_type": "code",
      "source": [
        "from keras.preprocessing.text import Tokenizer \n",
        "num_words = 10000 \n",
        "tokenizer=Tokenizer(num_words,lower=True)\n",
        "df_total = pd.concat([df_train_pre['Input'], df_test.Input], axis = 0)\n",
        "tokenizer.fit_on_texts(df_total)"
      ],
      "metadata": {
        "id": "DUgUuGgH1ibJ"
      },
      "execution_count": null,
      "outputs": []
    },
    {
      "cell_type": "code",
      "source": [
        "X_train=tokenizer.texts_to_sequences(df_train_pre['Input'])\n",
        "X_train_pad=pad_sequences(X_train,maxlen=300,padding='post')  \n",
        "X_test = tokenizer.texts_to_sequences(df_test_pre.Input)\n",
        "X_test_pad = pad_sequences(X_test, maxlen = 300, padding = 'post')\n",
        "X_val = tokenizer.texts_to_sequences(df_val.Input)\n",
        "X_val_pad = pad_sequences(X_val, maxlen = 300, padding = 'post')"
      ],
      "metadata": {
        "id": "m0_jAWXg3nUL"
      },
      "execution_count": null,
      "outputs": []
    },
    {
      "cell_type": "code",
      "source": [
        "import gensim.downloader as api\n",
        "glove_gensim  = api.load('glove-wiki-gigaword-100')"
      ],
      "metadata": {
        "id": "AmdVMRZc3tSk",
        "colab": {
          "base_uri": "https://localhost:8080/"
        },
        "outputId": "0aafc99d-9286-490b-ee68-d74ddad9c858"
      },
      "execution_count": null,
      "outputs": [
        {
          "output_type": "stream",
          "name": "stdout",
          "text": [
            "[==================================================] 100.0% 128.1/128.1MB downloaded\n"
          ]
        }
      ]
    },
    {
      "cell_type": "code",
      "source": [
        "vector_size = 100\n",
        "gensim_weight_matrix = np.zeros((num_words ,vector_size))\n",
        "gensim_weight_matrix.shape"
      ],
      "metadata": {
        "id": "Lle6QxOH30cE",
        "colab": {
          "base_uri": "https://localhost:8080/"
        },
        "outputId": "178a20f5-0526-49e9-bb95-7a1bd2cd9f63"
      },
      "execution_count": null,
      "outputs": [
        {
          "output_type": "execute_result",
          "data": {
            "text/plain": [
              "(10000, 100)"
            ]
          },
          "metadata": {},
          "execution_count": 37
        }
      ]
    },
    {
      "cell_type": "code",
      "source": [
        "for word, index in tokenizer.word_index.items():\n",
        "    if index < num_words: # since index starts with zero \n",
        "        if word in glove_gensim.vocab:\n",
        "            gensim_weight_matrix[index] = glove_gensim[word]\n",
        "        else:\n",
        "            gensim_weight_matrix[index] = np.zeros(100)"
      ],
      "metadata": {
        "id": "F468AWjC35VP"
      },
      "execution_count": null,
      "outputs": []
    },
    {
      "cell_type": "code",
      "source": [
        "from tensorflow.keras.models import Sequential \n",
        "from tensorflow.keras.layers import Dense, LSTM, Embedding,Bidirectional\n",
        "import tensorflow\n",
        "from tensorflow.compat.v1.keras.layers import CuDNNLSTM\n",
        "from tensorflow.keras.layers import Dropout, LeakyReLU, Flatten"
      ],
      "metadata": {
        "id": "_RXe8VkU4GU8"
      },
      "execution_count": null,
      "outputs": []
    },
    {
      "cell_type": "code",
      "source": [
        "from keras.layers.normalization.batch_normalization_v1 import BatchNormalization\n",
        "EMBEDDING_DIM = 100\n",
        "class_num = 5\n",
        "model = Sequential()\n",
        "model.add(Embedding(input_dim = num_words,\n",
        " output_dim = EMBEDDING_DIM,\n",
        " input_length= X_train_pad.shape[1],\n",
        " weights = [gensim_weight_matrix],trainable = False))\n",
        "model.add(Dropout(0.2))\n",
        "model.add(LeakyReLU(0.3))\n",
        "model.add(Bidirectional(CuDNNLSTM(64,return_sequences=True)))\n",
        "model.add(Dropout(0.2))\n",
        "model.add(Bidirectional(CuDNNLSTM(128,return_sequences=True)))\n",
        "model.add(Dropout(0.2))\n",
        "model.add(LeakyReLU(0.3))\n",
        "model.add(Bidirectional(CuDNNLSTM(64,return_sequences=True)))\n",
        "model.add(Dropout(0.2))\n",
        "model.add(Flatten())\n",
        "model.add(Dense(32))\n",
        "model.add(LeakyReLU())\n",
        "model.add(Dropout(0.2))\n",
        "model.add(Dense(class_num, activation ='softmax'))\n",
        "model.compile(loss = 'categorical_crossentropy', optimizer = 'adam',metrics = 'accuracy')"
      ],
      "metadata": {
        "id": "L2gfln9r7HFO"
      },
      "execution_count": null,
      "outputs": []
    },
    {
      "cell_type": "code",
      "source": [
        "print(model.summary())"
      ],
      "metadata": {
        "colab": {
          "base_uri": "https://localhost:8080/"
        },
        "id": "tUS5kzgeG_Kx",
        "outputId": "b55abd2e-ea07-4d92-de28-1bf30858d033"
      },
      "execution_count": null,
      "outputs": [
        {
          "output_type": "stream",
          "name": "stdout",
          "text": [
            "Model: \"sequential\"\n",
            "_________________________________________________________________\n",
            " Layer (type)                Output Shape              Param #   \n",
            "=================================================================\n",
            " embedding (Embedding)       (None, 300, 100)          1000000   \n",
            "                                                                 \n",
            " dropout (Dropout)           (None, 300, 100)          0         \n",
            "                                                                 \n",
            " leaky_re_lu (LeakyReLU)     (None, 300, 100)          0         \n",
            "                                                                 \n",
            " bidirectional (Bidirectiona  (None, 300, 128)         84992     \n",
            " l)                                                              \n",
            "                                                                 \n",
            " dropout_1 (Dropout)         (None, 300, 128)          0         \n",
            "                                                                 \n",
            " bidirectional_1 (Bidirectio  (None, 300, 256)         264192    \n",
            " nal)                                                            \n",
            "                                                                 \n",
            " dropout_2 (Dropout)         (None, 300, 256)          0         \n",
            "                                                                 \n",
            " leaky_re_lu_1 (LeakyReLU)   (None, 300, 256)          0         \n",
            "                                                                 \n",
            " bidirectional_2 (Bidirectio  (None, 300, 128)         164864    \n",
            " nal)                                                            \n",
            "                                                                 \n",
            " dropout_3 (Dropout)         (None, 300, 128)          0         \n",
            "                                                                 \n",
            " flatten (Flatten)           (None, 38400)             0         \n",
            "                                                                 \n",
            " dense (Dense)               (None, 32)                1228832   \n",
            "                                                                 \n",
            " leaky_re_lu_2 (LeakyReLU)   (None, 32)                0         \n",
            "                                                                 \n",
            " dropout_4 (Dropout)         (None, 32)                0         \n",
            "                                                                 \n",
            " dense_1 (Dense)             (None, 5)                 165       \n",
            "                                                                 \n",
            "=================================================================\n",
            "Total params: 2,743,045\n",
            "Trainable params: 1,743,045\n",
            "Non-trainable params: 1,000,000\n",
            "_________________________________________________________________\n",
            "None\n"
          ]
        }
      ]
    },
    {
      "cell_type": "code",
      "source": [
        "from keras.callbacks import EarlyStopping, ModelCheckpoint\n",
        "es = EarlyStopping(monitor = 'val_loss', mode = 'min', verbose = 1, patience = 5)\n",
        "mc = ModelCheckpoint('./model.h5', monitor = 'val_accuracy', mode = 'max', verbose = 1, save_best_only = True)"
      ],
      "metadata": {
        "id": "B0lbAHty7LeT"
      },
      "execution_count": null,
      "outputs": []
    },
    {
      "cell_type": "code",
      "source": [
        "history_embedding = model.fit(X_train_pad, y_train, \n",
        "                                epochs = 25, batch_size = 100, \n",
        "                                validation_data=(X_val_pad, y_val),\n",
        "                                verbose = 1, callbacks= [es, mc])"
      ],
      "metadata": {
        "id": "O2BIpLM67qxi",
        "colab": {
          "base_uri": "https://localhost:8080/"
        },
        "outputId": "4b0ee86e-62bc-446e-d729-fd8254f2c03f"
      },
      "execution_count": null,
      "outputs": [
        {
          "output_type": "stream",
          "name": "stdout",
          "text": [
            "Epoch 1/25\n",
            "155/155 [==============================] - ETA: 0s - loss: 1.2689 - accuracy: 0.4944\n",
            "Epoch 1: val_accuracy improved from -inf to 0.56175, saving model to ./model.h5\n",
            "155/155 [==============================] - 27s 99ms/step - loss: 1.2689 - accuracy: 0.4944 - val_loss: 1.1307 - val_accuracy: 0.5618\n",
            "Epoch 2/25\n",
            "155/155 [==============================] - ETA: 0s - loss: 0.9930 - accuracy: 0.6184\n",
            "Epoch 2: val_accuracy improved from 0.56175 to 0.61542, saving model to ./model.h5\n",
            "155/155 [==============================] - 14s 89ms/step - loss: 0.9930 - accuracy: 0.6184 - val_loss: 0.9619 - val_accuracy: 0.6154\n",
            "Epoch 3/25\n",
            "155/155 [==============================] - ETA: 0s - loss: 0.7837 - accuracy: 0.7030\n",
            "Epoch 3: val_accuracy improved from 0.61542 to 0.74935, saving model to ./model.h5\n",
            "155/155 [==============================] - 14s 89ms/step - loss: 0.7837 - accuracy: 0.7030 - val_loss: 0.6797 - val_accuracy: 0.7493\n",
            "Epoch 4/25\n",
            "155/155 [==============================] - ETA: 0s - loss: 0.6412 - accuracy: 0.7608\n",
            "Epoch 4: val_accuracy improved from 0.74935 to 0.76186, saving model to ./model.h5\n",
            "155/155 [==============================] - 14s 90ms/step - loss: 0.6412 - accuracy: 0.7608 - val_loss: 0.6181 - val_accuracy: 0.7619\n",
            "Epoch 5/25\n",
            "155/155 [==============================] - ETA: 0s - loss: 0.5368 - accuracy: 0.8013\n",
            "Epoch 5: val_accuracy improved from 0.76186 to 0.82595, saving model to ./model.h5\n",
            "155/155 [==============================] - 14s 91ms/step - loss: 0.5368 - accuracy: 0.8013 - val_loss: 0.4899 - val_accuracy: 0.8260\n",
            "Epoch 6/25\n",
            "155/155 [==============================] - ETA: 0s - loss: 0.4551 - accuracy: 0.8345\n",
            "Epoch 6: val_accuracy did not improve from 0.82595\n",
            "155/155 [==============================] - 14s 92ms/step - loss: 0.4551 - accuracy: 0.8345 - val_loss: 0.5035 - val_accuracy: 0.8108\n",
            "Epoch 7/25\n",
            "155/155 [==============================] - ETA: 0s - loss: 0.4012 - accuracy: 0.8533\n",
            "Epoch 7: val_accuracy improved from 0.82595 to 0.85305, saving model to ./model.h5\n",
            "155/155 [==============================] - 14s 94ms/step - loss: 0.4012 - accuracy: 0.8533 - val_loss: 0.4171 - val_accuracy: 0.8530\n",
            "Epoch 8/25\n",
            "155/155 [==============================] - ETA: 0s - loss: 0.3553 - accuracy: 0.8683\n",
            "Epoch 8: val_accuracy improved from 0.85305 to 0.86139, saving model to ./model.h5\n",
            "155/155 [==============================] - 15s 97ms/step - loss: 0.3553 - accuracy: 0.8683 - val_loss: 0.3555 - val_accuracy: 0.8614\n",
            "Epoch 9/25\n",
            "155/155 [==============================] - ETA: 0s - loss: 0.3178 - accuracy: 0.8825\n",
            "Epoch 9: val_accuracy improved from 0.86139 to 0.87181, saving model to ./model.h5\n",
            "155/155 [==============================] - 14s 92ms/step - loss: 0.3178 - accuracy: 0.8825 - val_loss: 0.3584 - val_accuracy: 0.8718\n",
            "Epoch 10/25\n",
            "155/155 [==============================] - ETA: 0s - loss: 0.2961 - accuracy: 0.8886\n",
            "Epoch 10: val_accuracy improved from 0.87181 to 0.88223, saving model to ./model.h5\n",
            "155/155 [==============================] - 16s 103ms/step - loss: 0.2961 - accuracy: 0.8886 - val_loss: 0.2915 - val_accuracy: 0.8822\n",
            "Epoch 11/25\n",
            "155/155 [==============================] - ETA: 0s - loss: 0.2609 - accuracy: 0.9002\n",
            "Epoch 11: val_accuracy did not improve from 0.88223\n",
            "155/155 [==============================] - 15s 96ms/step - loss: 0.2609 - accuracy: 0.9002 - val_loss: 0.3238 - val_accuracy: 0.8781\n",
            "Epoch 12/25\n",
            "155/155 [==============================] - ETA: 0s - loss: 0.2613 - accuracy: 0.9008\n",
            "Epoch 12: val_accuracy did not improve from 0.88223\n",
            "155/155 [==============================] - 14s 92ms/step - loss: 0.2613 - accuracy: 0.9008 - val_loss: 0.3224 - val_accuracy: 0.8786\n",
            "Epoch 13/25\n",
            "155/155 [==============================] - ETA: 0s - loss: 0.2333 - accuracy: 0.9100\n",
            "Epoch 13: val_accuracy improved from 0.88223 to 0.89734, saving model to ./model.h5\n",
            "155/155 [==============================] - 14s 93ms/step - loss: 0.2333 - accuracy: 0.9100 - val_loss: 0.2535 - val_accuracy: 0.8973\n",
            "Epoch 14/25\n",
            "155/155 [==============================] - ETA: 0s - loss: 0.2135 - accuracy: 0.9179\n",
            "Epoch 14: val_accuracy did not improve from 0.89734\n",
            "155/155 [==============================] - 15s 96ms/step - loss: 0.2135 - accuracy: 0.9179 - val_loss: 0.2810 - val_accuracy: 0.8927\n",
            "Epoch 15/25\n",
            "155/155 [==============================] - ETA: 0s - loss: 0.1996 - accuracy: 0.9190\n",
            "Epoch 15: val_accuracy did not improve from 0.89734\n",
            "155/155 [==============================] - 14s 92ms/step - loss: 0.1996 - accuracy: 0.9190 - val_loss: 0.2742 - val_accuracy: 0.8973\n",
            "Epoch 16/25\n",
            "155/155 [==============================] - ETA: 0s - loss: 0.1948 - accuracy: 0.9223\n",
            "Epoch 16: val_accuracy did not improve from 0.89734\n",
            "155/155 [==============================] - 14s 92ms/step - loss: 0.1948 - accuracy: 0.9223 - val_loss: 0.2524 - val_accuracy: 0.8937\n",
            "Epoch 17/25\n",
            "155/155 [==============================] - ETA: 0s - loss: 0.1831 - accuracy: 0.9278\n",
            "Epoch 17: val_accuracy improved from 0.89734 to 0.89943, saving model to ./model.h5\n",
            "155/155 [==============================] - 14s 93ms/step - loss: 0.1831 - accuracy: 0.9278 - val_loss: 0.2462 - val_accuracy: 0.8994\n",
            "Epoch 18/25\n",
            "155/155 [==============================] - ETA: 0s - loss: 0.1804 - accuracy: 0.9295\n",
            "Epoch 18: val_accuracy improved from 0.89943 to 0.90047, saving model to ./model.h5\n",
            "155/155 [==============================] - 14s 93ms/step - loss: 0.1804 - accuracy: 0.9295 - val_loss: 0.2393 - val_accuracy: 0.9005\n",
            "Epoch 19/25\n",
            "155/155 [==============================] - ETA: 0s - loss: 0.1673 - accuracy: 0.9328\n",
            "Epoch 19: val_accuracy did not improve from 0.90047\n",
            "155/155 [==============================] - 15s 96ms/step - loss: 0.1673 - accuracy: 0.9328 - val_loss: 0.2430 - val_accuracy: 0.8984\n",
            "Epoch 20/25\n",
            "155/155 [==============================] - ETA: 0s - loss: 0.1667 - accuracy: 0.9333\n",
            "Epoch 20: val_accuracy improved from 0.90047 to 0.90412, saving model to ./model.h5\n",
            "155/155 [==============================] - 14s 92ms/step - loss: 0.1667 - accuracy: 0.9333 - val_loss: 0.2256 - val_accuracy: 0.9041\n",
            "Epoch 21/25\n",
            "155/155 [==============================] - ETA: 0s - loss: 0.1539 - accuracy: 0.9373\n",
            "Epoch 21: val_accuracy did not improve from 0.90412\n",
            "155/155 [==============================] - 14s 92ms/step - loss: 0.1539 - accuracy: 0.9373 - val_loss: 0.2359 - val_accuracy: 0.8979\n",
            "Epoch 22/25\n",
            "155/155 [==============================] - ETA: 0s - loss: 0.1475 - accuracy: 0.9381\n",
            "Epoch 22: val_accuracy did not improve from 0.90412\n",
            "155/155 [==============================] - 15s 96ms/step - loss: 0.1475 - accuracy: 0.9381 - val_loss: 0.2750 - val_accuracy: 0.8958\n",
            "Epoch 23/25\n",
            "155/155 [==============================] - ETA: 0s - loss: 0.1500 - accuracy: 0.9397\n",
            "Epoch 23: val_accuracy did not improve from 0.90412\n",
            "155/155 [==============================] - 14s 92ms/step - loss: 0.1500 - accuracy: 0.9397 - val_loss: 0.2760 - val_accuracy: 0.9020\n",
            "Epoch 24/25\n",
            "155/155 [==============================] - ETA: 0s - loss: 0.1391 - accuracy: 0.9432\n",
            "Epoch 24: val_accuracy did not improve from 0.90412\n",
            "155/155 [==============================] - 14s 92ms/step - loss: 0.1391 - accuracy: 0.9432 - val_loss: 0.2555 - val_accuracy: 0.8927\n",
            "Epoch 25/25\n",
            "155/155 [==============================] - ETA: 0s - loss: 0.1274 - accuracy: 0.9464\n",
            "Epoch 25: val_accuracy did not improve from 0.90412\n",
            "155/155 [==============================] - 15s 96ms/step - loss: 0.1274 - accuracy: 0.9464 - val_loss: 0.2700 - val_accuracy: 0.9026\n",
            "Epoch 25: early stopping\n"
          ]
        }
      ]
    },
    {
      "cell_type": "code",
      "source": [
        "y_pred = np.argmax(model.predict(X_test_pad), axis  =  1)\n",
        "y_true = np.argmax(y_test, axis = 1)\n",
        "from sklearn import metrics\n",
        "print(metrics.classification_report(y_pred, y_true))"
      ],
      "metadata": {
        "id": "qwQXRUvu91aR",
        "colab": {
          "base_uri": "https://localhost:8080/"
        },
        "outputId": "f7ac1521-a658-45dc-d802-953de1453898"
      },
      "execution_count": null,
      "outputs": [
        {
          "output_type": "stream",
          "name": "stdout",
          "text": [
            "61/61 [==============================] - 3s 29ms/step\n",
            "              precision    recall  f1-score   support\n",
            "\n",
            "           0       0.90      0.98      0.94       638\n",
            "           1       0.95      0.91      0.93       287\n",
            "           2       0.97      0.75      0.84       206\n",
            "           3       0.96      0.95      0.96       588\n",
            "           4       0.93      0.97      0.95       215\n",
            "\n",
            "    accuracy                           0.94      1934\n",
            "   macro avg       0.94      0.91      0.92      1934\n",
            "weighted avg       0.94      0.94      0.93      1934\n",
            "\n"
          ]
        }
      ]
    },
    {
      "cell_type": "code",
      "source": [
        "\n",
        "%matplotlib inline\n",
        "import matplotlib.pyplot as plt\n",
        "acc = history_embedding.history['accuracy']\n",
        "val_acc = history_embedding.history['val_accuracy']\n",
        "loss = history_embedding.history['loss']\n",
        "val_loss = history_embedding.history['val_loss']\n",
        "\n",
        "epochs = range(len(acc))\n",
        "\n",
        "plt.plot(epochs, acc, 'r', label='Training accuracy')\n",
        "plt.plot(epochs, val_acc, 'b', label='Validation accuracy')\n",
        "plt.title('Training and validation accuracy')\n",
        "plt.legend()\n",
        "plt.figure()\n",
        "\n",
        "plt.plot(epochs, loss, 'r', label='Training Loss')\n",
        "plt.plot(epochs, val_loss, 'b', label='Validation Loss')\n",
        "plt.title('Training and validation loss')\n",
        "plt.legend()\n",
        "\n",
        "plt.show()\n"
      ],
      "metadata": {
        "colab": {
          "base_uri": "https://localhost:8080/",
          "height": 889
        },
        "id": "PMECzWd_bE9U",
        "outputId": "3306de92-fcfd-4543-fcb8-b07756206c04"
      },
      "execution_count": null,
      "outputs": [
        {
          "output_type": "display_data",
          "data": {
            "text/plain": [
              "<Figure size 640x480 with 1 Axes>"
            ],
            "image/png": "[encoded data removed]"
          },
          "metadata": {}
        },
        {
          "output_type": "display_data",
          "data": {
            "text/plain": [
              "<Figure size 640x480 with 1 Axes>"
            ],
            "image/png": "[encoded data removed]"
          },
          "metadata": {}
        }
      ]
    },
    {
      "cell_type": "code",
      "source": [
        "X = str(\"I have been thinking about going to a beach. I enjoy listening to music and singing .Chilling with friends, playing pubg. Getting an internship in summer, applying for companies.Yes I have been getting decent sleep.\")"
      ],
      "metadata": {
        "id": "7JOUTm78hc43"
      },
      "execution_count": null,
      "outputs": []
    },
    {
      "cell_type": "code",
      "source": [
        "def result(X):\n",
        "  in_pre = preprocess(X)\n",
        "  in_tok = tokenizer.texts_to_sequences(in_pre)\n",
        "  in_pad = pad_sequences(in_tok, maxlen = 300, padding = 'post')\n",
        "  return max(np.argmax(model.predict(in_pad, verbose = 0), axis=1))"
      ],
      "metadata": {
        "id": "png0Cv_Jyc4n"
      },
      "execution_count": null,
      "outputs": []
    },
    {
      "cell_type": "code",
      "source": [
        "res = result(X)"
      ],
      "metadata": {
        "id": "3cPJb7ScyrYi"
      },
      "execution_count": null,
      "outputs": []
    },
    {
      "cell_type": "code",
      "source": [
        "res"
      ],
      "metadata": {
        "colab": {
          "base_uri": "https://localhost:8080/"
        },
        "id": "k42OF1oJyuzH",
        "outputId": "f0cf8eeb-6dbb-4154-97db-ab5b59f88139"
      },
      "execution_count": null,
      "outputs": [
        {
          "output_type": "execute_result",
          "data": {
            "text/plain": [
              "4"
            ]
          },
          "metadata": {},
          "execution_count": 79
        }
      ]
    }
  ]
}